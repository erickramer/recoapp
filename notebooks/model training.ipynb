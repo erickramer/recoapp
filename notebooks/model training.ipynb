{
 "cells": [
  {
   "cell_type": "code",
   "execution_count": 33,
   "metadata": {
    "collapsed": true
   },
   "outputs": [],
   "source": [
    "from ggplot import *\n",
    "import pandas as pd\n",
    "import numpy as np"
   ]
  },
  {
   "cell_type": "code",
   "execution_count": 34,
   "metadata": {
    "collapsed": false
   },
   "outputs": [],
   "source": [
    "from keras.models import Model, Sequential\n",
    "from keras.layers import Input, Dense, Dropout, Embedding\n",
    "from keras.layers import Merge, Flatten, Input, merge\n",
    "from keras.optimizers import Adagrad"
   ]
  },
  {
   "cell_type": "code",
   "execution_count": 35,
   "metadata": {
    "collapsed": true
   },
   "outputs": [],
   "source": [
    "df = pd.read_csv(\"../data/ml-20m/ratings.csv\")"
   ]
  },
  {
   "cell_type": "code",
   "execution_count": 36,
   "metadata": {
    "collapsed": true
   },
   "outputs": [],
   "source": [
    "df['liked'] = df.rating > 3.5"
   ]
  },
  {
   "cell_type": "code",
   "execution_count": 37,
   "metadata": {
    "collapsed": true
   },
   "outputs": [],
   "source": [
    "i = np.random.permutation(df.shape[0])\n",
    "df = df.iloc[i, :]"
   ]
  },
  {
   "cell_type": "code",
   "execution_count": 38,
   "metadata": {
    "collapsed": true
   },
   "outputs": [],
   "source": [
    "x = [df.userId, df.movieId]\n",
    "y = df.liked"
   ]
  },
  {
   "cell_type": "markdown",
   "metadata": {},
   "source": [
    "## Building model"
   ]
  },
  {
   "cell_type": "code",
   "execution_count": 39,
   "metadata": {
    "collapsed": false
   },
   "outputs": [],
   "source": [
    "user = Input(shape=(1,), name=\"user\")\n",
    "movie = Input(shape=(1,), name=\"movie\")\n",
    "\n",
    "user_vec = Embedding(input_dim=2e5, output_dim=10)(user)\n",
    "movie_vec = Embedding(input_dim=2e5, output_dim=10)(movie)\n",
    "\n",
    "interaction = merge([user_vec, movie_vec], mode='dot')\n",
    "interaction = Flatten()(interaction)\n",
    "\n",
    "liked = Dense(1, activation=\"sigmoid\")(interaction)"
   ]
  },
  {
   "cell_type": "code",
   "execution_count": 40,
   "metadata": {
    "collapsed": true
   },
   "outputs": [],
   "source": [
    "model = Model([user, movie], liked)"
   ]
  },
  {
   "cell_type": "code",
   "execution_count": 41,
   "metadata": {
    "collapsed": true
   },
   "outputs": [],
   "source": [
    "model.compile(loss='binary_crossentropy', optimizer='Adagrad')"
   ]
  },
  {
   "cell_type": "code",
   "execution_count": 42,
   "metadata": {
    "collapsed": false
   },
   "outputs": [
    {
     "name": "stdout",
     "output_type": "stream",
     "text": [
      "Train on 18000236 samples, validate on 2000027 samples\n",
      "Epoch 1/10\n",
      "18000236/18000236 [==============================] - 60s - loss: 0.6119 - val_loss: 0.5480\n",
      "Epoch 2/10\n",
      "18000236/18000236 [==============================] - 60s - loss: 0.5298 - val_loss: 0.5334\n",
      "Epoch 3/10\n",
      "18000236/18000236 [==============================] - 60s - loss: 0.5161 - val_loss: 0.5275\n",
      "Epoch 4/10\n",
      "18000236/18000236 [==============================] - 60s - loss: 0.5082 - val_loss: 0.5240\n",
      "Epoch 5/10\n",
      "18000236/18000236 [==============================] - 60s - loss: 0.5024 - val_loss: 0.5217\n",
      "Epoch 6/10\n",
      "18000236/18000236 [==============================] - 60s - loss: 0.4976 - val_loss: 0.5200\n",
      "Epoch 7/10\n",
      "18000236/18000236 [==============================] - 60s - loss: 0.4933 - val_loss: 0.5187\n",
      "Epoch 8/10\n",
      "18000236/18000236 [==============================] - 60s - loss: 0.4893 - val_loss: 0.5175\n",
      "Epoch 9/10\n",
      "18000236/18000236 [==============================] - 60s - loss: 0.4854 - val_loss: 0.5166\n",
      "Epoch 10/10\n",
      "18000236/18000236 [==============================] - 61s - loss: 0.4818 - val_loss: 0.5158\n"
     ]
    }
   ],
   "source": [
    "history = model.fit(x, y, \n",
    "                    batch_size=1000,\n",
    "                    nb_epoch=10,\n",
    "                    verbose=1,\n",
    "                    validation_split=0.1)"
   ]
  },
  {
   "cell_type": "code",
   "execution_count": 15,
   "metadata": {
    "collapsed": false
   },
   "outputs": [],
   "source": [
    "model.save_weights(\"../data/model.h5\")"
   ]
  }
 ],
 "metadata": {
  "kernelspec": {
   "display_name": "Python 2",
   "language": "python",
   "name": "python2"
  },
  "language_info": {
   "codemirror_mode": {
    "name": "ipython",
    "version": 2
   },
   "file_extension": ".py",
   "mimetype": "text/x-python",
   "name": "python",
   "nbconvert_exporter": "python",
   "pygments_lexer": "ipython2",
   "version": "2.7.5"
  }
 },
 "nbformat": 4,
 "nbformat_minor": 1
}
